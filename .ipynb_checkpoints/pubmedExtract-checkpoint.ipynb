{
 "cells": [
  {
   "cell_type": "code",
   "execution_count": 1,
   "metadata": {},
   "outputs": [],
   "source": [
    "import os\n",
    "# import random number generator\n",
    "from random import randint\n",
    "# import to setup sleep and pauses\n",
    "import time\n",
    "# importing \"collections\" for defaultdict\n",
    "import collections\n",
    "from collections import defaultdict\n",
    "from Bio import Entrez\n",
    "from Bio import SeqIO\n",
    "from Bio import Medline\n",
    "from Bio.Alphabet import IUPAC\n",
    "Entrez.email = 'jamison@library.ucla.edu'"
   ]
  },
  {
   "cell_type": "code",
   "execution_count": 2,
   "metadata": {},
   "outputs": [],
   "source": [
    "# esearch:  searches and retrieves primary ID's used in efetch, elink and esummary\n",
    "# efetch retrieves records in the requested format from list of primary IDs"
   ]
  },
  {
   "cell_type": "code",
   "execution_count": 3,
   "metadata": {},
   "outputs": [
    {
     "data": {
      "text/plain": [
       "'/home/jmjamison/work/pubmedExtracts'"
      ]
     },
     "execution_count": 3,
     "metadata": {},
     "output_type": "execute_result"
    }
   ],
   "source": [
    "# tells you where your default working directory is - ie. where files will be written\n",
    "os.getcwd()"
   ]
  },
  {
   "cell_type": "code",
   "execution_count": 70,
   "metadata": {},
   "outputs": [],
   "source": [
    "db=Entrez.einfo(db=\"pubmed\")"
   ]
  },
  {
   "cell_type": "code",
   "execution_count": 5,
   "metadata": {},
   "outputs": [],
   "source": [
    "query='(\"University of California, Los Angeles\"[Affiliation] OR \"University of California, Los Angeles\"[Affiliation] OR \"University of California Los Angeles\"[Affiliation] OR \"University of California at Los Angeles\"[Affiliation] OR \"University of California of Los Angeles\"[Affiliation] OR \"University of California in Los Angeles\"[Affiliation] OR UCLA[Affiliation] OR 90095[Affiliation]) AND (\"2014/01/01\"[PDAT] : \"2018/01/31\"[PDAT])'\n",
    "handle=Entrez.esearch(db=\"pubmed\", term=query)"
   ]
  },
  {
   "cell_type": "code",
   "execution_count": 6,
   "metadata": {},
   "outputs": [
    {
     "data": {
      "text/plain": [
       "['29672601', '29671273', '29671268', '29671267', '29671266', '29671265', '29671264', '29670931', '29670925', '29670334', '29666723', '29664956', '29664904', '29662744', '29662743', '29657885', '29657269', '29657267', '29657917', '29657703']"
      ]
     },
     "execution_count": 6,
     "metadata": {},
     "output_type": "execute_result"
    }
   ],
   "source": [
    "handle = Entrez.esearch(db=\"pubmed\", term=query)\n",
    "record=Entrez.read(handle)\n",
    "record[\"IdList\"]"
   ]
  },
  {
   "cell_type": "code",
   "execution_count": 7,
   "metadata": {},
   "outputs": [],
   "source": [
    "record[\"Count\"]\n",
    "recordCount = record[\"Count\"]"
   ]
  },
  {
   "cell_type": "code",
   "execution_count": 8,
   "metadata": {},
   "outputs": [
    {
     "name": "stdout",
     "output_type": "stream",
     "text": [
      "21640\n"
     ]
    }
   ],
   "source": [
    "print(recordCount)"
   ]
  },
  {
   "cell_type": "code",
   "execution_count": 9,
   "metadata": {
    "scrolled": false
   },
   "outputs": [],
   "source": [
    "handle=Entrez.esearch(db=\"pubmed\", term=query, retmax=recordCount)\n",
    "result=Entrez.read(handle)"
   ]
  },
  {
   "cell_type": "code",
   "execution_count": 10,
   "metadata": {},
   "outputs": [],
   "source": [
    "# f = open('/home/jmjamison/work/pubmedExtracts/outputList.txt', \"w\")\n",
    "# comment out so this will default to the default working directory\n",
    "# \n",
    "# write out the id list - result\n",
    "f = open('outputList.txt', \"w\")\n",
    "f.write(str(result))\n",
    "f.close()"
   ]
  },
  {
   "cell_type": "raw",
   "metadata": {},
   "source": [
    "handle=Entrez.esearch(db=\"pubmed\", term=query)\n",
    "record=Entrez.read(handle)\n",
    "record[\"IdList\"]"
   ]
  },
  {
   "cell_type": "code",
   "execution_count": 11,
   "metadata": {},
   "outputs": [],
   "source": [
    "# f = open('/home/jmjamison/work/pubmedExtracts/outputIdList.txt', \"w\")\n",
    "# comment out so this will default to the default working directory# \n",
    "# write out the id list - result\n",
    "f = open('outputIdList.txt', \"w\")\n",
    "f.write(str(record[\"IdList\"]))\n",
    "f.close()"
   ]
  },
  {
   "cell_type": "code",
   "execution_count": 69,
   "metadata": {},
   "outputs": [],
   "source": [
    "handle=Entrez.efetch(db=\"pubmed\", id=17383002, retmode=\"xml\")\n",
    "record=Entrez.read(handle)\n",
    "# print(record) comment out print statement"
   ]
  },
  {
   "cell_type": "code",
   "execution_count": 13,
   "metadata": {},
   "outputs": [
    {
     "name": "stdout",
     "output_type": "stream",
     "text": [
      "dict_keys(['DbList'])\n"
     ]
    },
    {
     "data": {
      "text/plain": [
       "dict_keys(['DbName', 'MenuName', 'Description', 'DbBuild', 'Count', 'LastUpdate', 'FieldList', 'LinkList'])"
      ]
     },
     "execution_count": 13,
     "metadata": {},
     "output_type": "execute_result"
    }
   ],
   "source": [
    "#fetchHandle=Entrez.efetch(db=\"pubmed\", id=17383002, retmode=\"xml\")\n",
    "infoHandle = Entrez.einfo()\n",
    "record = Entrez.read(infoHandle)\n",
    "infoHandle.close()\n",
    "print(record.keys())\n",
    "record['DbList']\n",
    "\n",
    "infoHandle = Entrez.einfo(db=\"pubmed\")\n",
    "record = Entrez.read(infoHandle)\n",
    "record[\"DbInfo\"][\"Description\"]\n",
    "record[\"DbInfo\"][\"Count\"]\n",
    "record[\"DbInfo\"].keys()"
   ]
  },
  {
   "cell_type": "code",
   "execution_count": 14,
   "metadata": {},
   "outputs": [
    {
     "data": {
      "text/plain": [
       "'21631'"
      ]
     },
     "execution_count": 14,
     "metadata": {},
     "output_type": "execute_result"
    }
   ],
   "source": [
    "handle=Entrez.esearch(db=\"pubmed\", term=query, retmax=recordCount)\n",
    "record=Entrez.read(handle)\n",
    "record[\"Count\"]"
   ]
  },
  {
   "cell_type": "code",
   "execution_count": 40,
   "metadata": {},
   "outputs": [
    {
     "name": "stdout",
     "output_type": "stream",
     "text": [
      "['29672601', '29671273', '29671268', '29671267', '29671266', '29671265', '29671264', '29670931', '29670925', '29670334', '29666723', '29664956', '29664904', '29662744', '29662743', '29657885', '29657269', '29657267', '29657917', '29657703']\n",
      "29672601\n",
      "Expression of immune checkpoint regulators, cytotoxic T lymphocyte antigen 4 (CTLA-4) and programmed death-ligand 1 (PD-L1), in female breast carcinomas.\n",
      "['ORCID: http://orcid.org/0000-0002-9986-8058']\n",
      "['Kassardjian A', 'Shintaku PI', 'Moatamed NA']\n",
      "['10.1371/journal.pone.0195958 [doi]', 'PONE-D-18-05387 [pii]']\n",
      "\n",
      "\n",
      "29671273\n",
      "Intravital Imaging of Human Melanoma Cells in the Mouse Ear Skin by Two-Photon Excitation Microscopy.\n",
      "\n",
      "['Bentolila NY', 'Barnhill RL', 'Lugassy C', 'Bentolila LA']\n",
      "['10.1007/978-1-4939-7724-6_15 [doi]']\n",
      "\n",
      "\n",
      "29671268\n",
      "Using YFP as a Reporter of Gene Expression in the Green Alga Chlamydomonas reinhardtii.\n",
      "\n",
      "['Blaby-Haas CE', 'Page MD', 'Merchant SS']\n",
      "['10.1007/978-1-4939-7724-6_10 [doi]']\n",
      "\n",
      "\n",
      "29671267\n",
      "Reporter Gene Assays Using Viral Functional Genomics Libraries.\n",
      "\n",
      "['Welch G', 'Damoiseaux R', 'Miraglia L']\n",
      "['10.1007/978-1-4939-7724-6_9 [doi]']\n",
      "\n",
      "\n",
      "29671266\n",
      "Reporter Gene Assays Using Transfectable Functional Genomics Libraries.\n",
      "\n",
      "['Welch G', 'Damoiseaux R', 'Miraglia L']\n",
      "['10.1007/978-1-4939-7724-6_8 [doi]']\n",
      "\n",
      "\n",
      "29671265\n",
      "Making It All Work: Functional Genomics and Reporter Gene Assays.\n",
      "\n",
      "['Welch G', 'Damoiseaux R', 'Miraglia L']\n",
      "['10.1007/978-1-4939-7724-6_7 [doi]']\n",
      "\n",
      "\n",
      "29671264\n",
      "High-Throughput Screening of a Luciferase Reporter of Gene Silencing on the Inactive X Chromosome.\n",
      "\n",
      "['Keegan A', 'Plath K', 'Damoiseaux R']\n",
      "['10.1007/978-1-4939-7724-6_6 [doi]']\n",
      "\n",
      "\n",
      "29670931\n",
      "EMERGEncy ID NET: Review of a 20-Year Multisite Emergency Department Emerging Infections Research Network.\n",
      "\n",
      "['Santibanez S', 'Fischer LS', 'Krishnadasan A', 'Sederdahl B', 'Merlin T', 'Moran GJ', 'Talan DA']\n",
      "['10.1093/ofid/ofx218 [doi]', 'ofx218 [pii]']\n",
      "\n",
      "\n",
      "29670925\n",
      "Pseudocirrhosis in a Patient with New-Onset Dysphagia and History of Ovarian Carcinoma.\n",
      "\n",
      "['Zanazanian A', 'Kalani A', 'Tabibian JH']\n",
      "['10.14309/crj.2018.29 [doi]', 'crj.2018.29 [pii]']\n",
      "\n",
      "\n",
      "29670334\n",
      "Aldoxorubicin: a tumor-targeted doxorubicin conjugate for relapsed or refractory soft tissue sarcomas.\n",
      "\n",
      "['Gong J', 'Yan J', 'Forscher C', 'Hendifar A']\n",
      "['10.2147/DDDT.S140638 [doi]', 'dddt-12-777 [pii]']\n",
      "\n",
      "\n",
      "29666723\n",
      "A Challenging Case of Severe Ulcerative Colitis following the Initiation of Secukinumab for Ankylosing Spondylitis.\n",
      "['ORCID: 0000-0001-9606-8429', 'ORCID: 0000-0003-2549-9939']\n",
      "['Ehrlich D', 'Jamaluddin N', 'Pisegna J', 'Padua D']\n",
      "['10.1155/2018/9679287 [doi]']\n",
      "\n",
      "\n",
      "29664956\n",
      "You pray to your God: A qualitative analysis of challenges in the provision of safe, timely, and affordable surgical care in Uganda.\n",
      "['ORCID: http://orcid.org/0000-0003-1735-7316', 'ORCID: http://orcid.org/0000-0002-3546-9867']\n",
      "['Albutt K', 'Yorlets RR', 'Punchak M', 'Kayima P', 'Namanya DB', 'Anderson GA', 'Shrime MG']\n",
      "['10.1371/journal.pone.0195986 [doi]', 'PONE-D-17-33078 [pii]']\n",
      "\n",
      "\n",
      "29664904\n",
      "Surprisal analysis of genome-wide transcript profiling identifies differentially expressed genes and pathways associated with four growth conditions in the microalga Chlamydomonas.\n",
      "['ORCID: http://orcid.org/0000-0002-5016-9547']\n",
      "['Bogaert KA', 'Manoharan-Basil SS', 'Perez E', 'Levine RD', 'Remacle F', 'Remacle C']\n",
      "['10.1371/journal.pone.0195142 [doi]', 'PONE-D-17-37946 [pii]']\n",
      "\n",
      "\n",
      "29662744\n",
      "Postoperative Complications Associated With rhBMP2 Use in Posterior/Posterolateral Lumbar Fusion.\n",
      "\n",
      "['Esmail N', 'Buser Z', 'Cohen JR', 'Brodke DS', 'Meisel HJ', 'Park JB', 'Youssef JA', 'Wang JC', 'Yoon ST']\n",
      "['10.1177/2192568217698141 [doi]', '10.1177_2192568217698141 [pii]']\n",
      "\n",
      "\n",
      "29662743\n",
      "Trends Analysis of rhBMP2 Utilization in Single-Level Anterior Lumbar Interbody Fusion in the United States.\n",
      "\n",
      "['Lao L', 'Cohen JR', 'Buser Z', 'Brodke DS', 'Yoon ST', 'Youssef JA', 'Park JB', 'Meisel HJ', 'Wang JC']\n",
      "['10.1177/2192568217701119 [doi]', '10.1177_2192568217701119 [pii]']\n",
      "\n",
      "\n",
      "29657885\n",
      "First Step to Success: Applications to Preschoolers at Risk of Developing Autism Spectrum Disorders.\n",
      "\n",
      "['Frey AJ', 'Small JW', 'Feil EG', 'Seeley JR', 'Walker HM', 'Forness S']\n",
      "\n",
      "\n",
      "\n",
      "29657269\n",
      "Erratum: The Non-Coding RNA Journal Club: Highlights on Recent Papers-4. Non-Coding RNA 2016, 2, 9.\n",
      "['ORCID: 0000-0002-1508-8469', 'ORCID: 0000-0002-3636-5189', 'ORCID: 0000-0001-7231-375X']\n",
      "['Gautheret D', 'Taube JH', 'Mani SA', 'Santulli G', 'Cuerda-Gil D', 'Slotkin RK', 'Zhang B', 'Wang Y', 'Salzman DW', 'Weidhaas JB']\n",
      "['ncrna2040010 [pii]', '10.3390/ncrna2040010 [doi]']\n",
      "\n",
      "\n",
      "29657267\n",
      "The Non-Coding RNA Journal Club: Highlights on Recent Papers-4.\n",
      "['ORCID: 0000-0002-3636-5189', 'ORCID: 0000-0001-7231-375X']\n",
      "['Gautheret D', 'Taube JH', 'Mani SA', 'Santulli G', 'Cuerda-Gil D', 'Slotkin RK', 'Zhang B', 'Wang Y', 'Salzman DW', 'Weidhaas JB']\n",
      "['ncrna2030009 [pii]', '10.3390/ncrna2030009 [doi]']\n",
      "\n",
      "\n",
      "29657917\n",
      "Hemophagocytic lymphohistiocytosis (HLH) secondary to disseminated histoplasmosis in the setting of Acquired Immunodeficiency Syndrome (AIDS).\n",
      "\n",
      "['Asanad S', 'Cerk B', 'Ramirez V']\n",
      "['10.1016/j.mmcr.2018.01.001 [doi]', 'S2211-7539(18)30004-6 [pii]']\n",
      "\n",
      "\n",
      "29657703\n",
      "DETERMINING THE ELEMENTAL AND ISOTOPIC COMPOSITION OF THE PRESOLAR NEBULA FROM GENESIS DATA ANALYSIS: THE CASE OF OXYGEN.\n",
      "\n",
      "['Laming JM', 'Heber VS', 'Burnett DS', 'Guan Y', 'Hervig R', 'Huss GR', 'Jurewicz AJG', 'Koeman-Shields EC', 'McKeegan KD', 'Nittler L', 'Reisenfeld DB', 'Rieck KD', 'Wang J', 'Wiens RC', 'Woolum DS']\n",
      "['10.3847/2041-8213/aa9bf0 [doi]']\n",
      "\n",
      "\n"
     ]
    }
   ],
   "source": [
    "# importing \"collections\" for defaultdict\n",
    "import collections\n",
    "from collections import defaultdict\n",
    "#from Bio import Medline\n",
    "# use return type of MEDLINE\n",
    "handle = Entrez.esearch(db=\"pubmed\", term=query)\n",
    "record=Entrez.read(handle)\n",
    "idList = record[\"IdList\"]\n",
    "print(idList)\n",
    "handle = Entrez.efetch(db=\"pubmed\", id=idList, rettype=\"medline\", retmode=\"text\")\n",
    "records = Medline.parse(handle)\n",
    "# declaring defaultdict\n",
    "# sets default value 'Key Not found' to absent keys\n",
    "#records = collections.defaultdict(lambda : 'Key Not found')\n",
    "for record in records:\n",
    "    # print(record[\"PMID\"])\n",
    "    print(record.get('PMID', \"\"))\n",
    "    # print(record[\"TI\"])\n",
    "    print(record.get('TI', \"\"))\n",
    "    # print(record[\"AUID\"])\n",
    "    print(record.get('AUID', \"\"))\n",
    "    # print(record[\"AU\"])\n",
    "    print(record.get('AU', \"\"))    \n",
    "    # print(record[\"AID\"])\n",
    "    print(record.get('AID', \"\"))    \n",
    "    print(\"\\n\")"
   ]
  },
  {
   "cell_type": "code",
   "execution_count": 32,
   "metadata": {},
   "outputs": [
    {
     "name": "stdout",
     "output_type": "stream",
     "text": [
      "['29672601', '29671273', '29671268', '29671267', '29671266', '29671265', '29671264', '29670931', '29670925', '29670334', '29666723', '29664956', '29664904', '29662744', '29662743', '29657885', '29657269', '29657267', '29657917', '29657703']\n",
      "29672601,29671273,29671268,29671267,29671266,29671265,29671264,29670931,29670925,29670334,29666723,29664956,29664904,29662744,29662743,29657885,29657269,29657267,29657917,29657703\n"
     ]
    }
   ],
   "source": [
    "# f = open('/home/jmjamison/work/pubmedExtracts/outputIdListFull.txt', \"w\")\n",
    "# comment out so this will default to the default working directory# \n",
    "# write out the id list - result\n",
    "f = open('outputIdListFull.txt', \"w\")\n",
    "# first esearch and then efetch\n",
    "handle=Entrez.esearch(db=\"pubmed\", term=query)\n",
    "# read - sould now be a Python dictionary/list\n",
    "searchResult=Entrez.read(handle)\n",
    "handle.close()\n",
    "idList=searchResult[\"IdList\"]\n",
    "ids= ','.join(idList)\n",
    "listCount=searchResult[\"Count\"]# now have a list of record ids\n",
    "#print(idList)\n",
    "#print(ids)\n",
    "#print(searchResult)\n",
    "f.write(str(searchResult[\"IdList\"]))\n",
    "# now have a list of record ids\n",
    "print(idList)\n",
    "print(ids)\n",
    "#print(searchResult)\n",
    "f.close()"
   ]
  },
  {
   "cell_type": "code",
   "execution_count": 68,
   "metadata": {},
   "outputs": [
    {
     "name": "stdout",
     "output_type": "stream",
     "text": [
      "21640\n",
      "Total records: 21640\n",
      "Total records processed: 10001\n"
     ]
    }
   ],
   "source": [
    "from random import randint\n",
    "import time\n",
    "# f = open('/home/jmjamison/work/pubmedExtracts/outputPubMed.txt', \"w\")\n",
    "# comment out so this will default to the default working directory# \n",
    "# write out the id list - result\n",
    "f = open('outputPubMed.csv', \"w\")\n",
    "# first esearch and then efetch\n",
    "searchHandle=Entrez.esearch(db=\"pubmed\", term=query, retmax=recordCount)\n",
    "# read - sould now be a Python dictionary/list\n",
    "idList=searchResult[\"IdList\"]\n",
    "ids= ','.join(idList)\n",
    "searchResult=Entrez.read(searchHandle)\n",
    "fetchHandle = Entrez.efetch(db=\"pubmed\", id=ids, rettype=\"medline\", retmode=\"text\")\n",
    "handle.close()\n",
    "\n",
    "listCount=searchResult[\"Count\"]\n",
    "print(listCount)\n",
    "# now have a list of record ids\n",
    "#print(idList)\n",
    "#print(ids)\n",
    "#print(searchResult)\n",
    "records = Medline.parse(fetchHandle)\n",
    "print(\"Total records: \" + listCount)\n",
    "i = 1\n",
    "for record in records:\n",
    "    f.write(record.get('PMID', \"\"))\n",
    "    f.write(\",\")\n",
    "    f.write(record.get('TI', \"\"))\n",
    "    f.write(\",\")\n",
    "    f.write(str(record.get('AUID', \"\")))\n",
    "    f.write(\",\")\n",
    "    f.write(str(record.get('AU', \"\")))\n",
    "    f.write(\",\") \n",
    "    f.write(str(record.get('AID', \"\")))\n",
    "    f.write(\"\\n\")\n",
    "    i = i+1\n",
    "\n",
    "f.close()\n",
    "\n",
    "print(\"Total records processed: \" + str(i))"
   ]
  },
  {
   "cell_type": "code",
   "execution_count": null,
   "metadata": {},
   "outputs": [],
   "source": []
  },
  {
   "cell_type": "code",
   "execution_count": null,
   "metadata": {},
   "outputs": [],
   "source": []
  }
 ],
 "metadata": {
  "kernelspec": {
   "display_name": "Python 3",
   "language": "python",
   "name": "python3"
  },
  "language_info": {
   "codemirror_mode": {
    "name": "ipython",
    "version": 3
   },
   "file_extension": ".py",
   "mimetype": "text/x-python",
   "name": "python",
   "nbconvert_exporter": "python",
   "pygments_lexer": "ipython3",
   "version": "3.6.5"
  }
 },
 "nbformat": 4,
 "nbformat_minor": 2
}
